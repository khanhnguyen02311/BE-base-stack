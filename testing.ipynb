{
 "cells": [
  {
   "cell_type": "code",
   "execution_count": 67,
   "outputs": [],
   "source": [
    "import time\n",
    "import uuid\n",
    "from datetime import datetime\n",
    "from cassandra.cqlengine import columns\n",
    "from cassandra.cqlengine.models import Model\n",
    "from cassandra.cqlengine.management import sync_table\n",
    "\n",
    "\n",
    "# ==============================================================================\n",
    "class TestTable(Model):\n",
    "    id = columns.UUID(primary_key=True, default=uuid.uuid4)\n",
    "    text = columns.Text()\n",
    "    number = columns.Integer()\n",
    "    time_created = columns.DateTime(default=datetime.utcnow)\n",
    "\n",
    "\n",
    "# ==============================================================================\n",
    "class ChatGroup(Model):\n",
    "    id = columns.UUID(primary_key=True, default=uuid.uuid4)\n",
    "    name = columns.Text(0, 128)\n",
    "    time_created = columns.DateTime(primary_key=True, clustering_order=\"DESC\", default=datetime.utcnow)\n",
    "\n",
    "\n",
    "# ==============================================================================\n",
    "class ChatParticipantByAccount(Model):\n",
    "    id = columns.UUID(default=uuid.uuid4)\n",
    "    message_notify = columns.Boolean()\n",
    "\n",
    "    id_account = columns.Integer(primary_key=True)\n",
    "    id_chatgroup = columns.UUID(primary_key=True, clustering_order=\"DESC\")\n",
    "\n",
    "\n",
    "# ==============================================================================\n",
    "class ChatParticipantByChatGroup(Model):\n",
    "    id = columns.UUID(default=uuid.uuid4)\n",
    "    message_notify = columns.Boolean()\n",
    "\n",
    "    id_chatgroup = columns.UUID(primary_key=True)\n",
    "    id_account = columns.Integer(primary_key=True, clustering_order=\"DESC\")\n",
    "\n",
    "\n",
    "# ==============================================================================\n",
    "class ChatMessage(Model):\n",
    "    id = columns.UUID(default=uuid.uuid4)\n",
    "    text = columns.Text(0, 512)\n",
    "    id_chatgroup = columns.UUID(primary_key=True)\n",
    "    time_created = columns.DateTime(primary_key=True, clustering_order=\"DESC\", default=datetime.utcnow)\n",
    "    id_chatparticipant = columns.UUID(primary_key=True)\n",
    "\n",
    "\n",
    "# ==============================================================================\n",
    "def sync_tables():\n",
    "    sync_table(TestTable)\n",
    "    sync_table(ChatGroup)\n",
    "    sync_table(ChatParticipantByAccount)\n",
    "    sync_table(ChatParticipantByChatGroup)\n",
    "    sync_table(ChatMessage)\n"
   ],
   "metadata": {
    "collapsed": false,
    "ExecuteTime": {
     "end_time": "2023-09-01T15:52:21.348551964Z",
     "start_time": "2023-09-01T15:52:21.329615810Z"
    }
   },
   "id": "366dfcd1a084508e"
  },
  {
   "cell_type": "code",
   "execution_count": 68,
   "outputs": [],
   "source": [
    "from configurations.conf import Scylla\n",
    "from cassandra.query import tuple_factory\n",
    "from cassandra.cluster import ExecutionProfile, EXEC_PROFILE_DEFAULT, ConsistencyLevel\n",
    "from cassandra.policies import WhiteListRoundRobinPolicy\n",
    "from cassandra.cqlengine import connection\n",
    "\n",
    "profile = ExecutionProfile(\n",
    "    load_balancing_policy=WhiteListRoundRobinPolicy(['127.0.0.1']),\n",
    "    consistency_level=ConsistencyLevel.LOCAL_QUORUM,\n",
    "    serial_consistency_level=ConsistencyLevel.LOCAL_SERIAL,\n",
    "    request_timeout=15,\n",
    "    row_factory=tuple_factory\n",
    ")\n",
    "connection.setup(['127.0.0.1'], Scylla.DB_KEYSPACE,\n",
    "                 execution_profiles={EXEC_PROFILE_DEFAULT: profile}, port=Scylla.DB_PORT)\n",
    "connection.execute(f\"DROP KEYSPACE {Scylla.DB_KEYSPACE}\")\n",
    "connection.execute(\n",
    "    f\"CREATE KEYSPACE IF NOT EXISTS {Scylla.DB_KEYSPACE} WITH replication = \" +\n",
    "    f\"{{'class': 'NetworkTopologyStrategy', 'replication_factor': {Scylla.DB_REPLICATION_FACTOR}}}\")\n",
    "connection.execute(f\"USE {Scylla.DB_KEYSPACE}\")\n",
    "sync_tables()"
   ],
   "metadata": {
    "collapsed": false,
    "ExecuteTime": {
     "end_time": "2023-09-01T15:52:22.322886487Z",
     "start_time": "2023-09-01T15:52:21.849821802Z"
    }
   },
   "id": "b6cedca6afc461b1"
  },
  {
   "cell_type": "code",
   "execution_count": 71,
   "outputs": [
    {
     "data": {
      "text/plain": "ChatGroup(id=UUID('5bf5b44c-c83a-41cc-a22a-6ca5b06f2ecc'), name='temporary', time_created=datetime.datetime(2023, 9, 1, 15, 52, 26, 9428))"
     },
     "execution_count": 71,
     "metadata": {},
     "output_type": "execute_result"
    }
   ],
   "source": [
    "new_group = ChatGroup.create(name=\"temporary\")\n",
    "new_group"
   ],
   "metadata": {
    "collapsed": false,
    "ExecuteTime": {
     "end_time": "2023-09-01T15:52:26.024244572Z",
     "start_time": "2023-09-01T15:52:26.012137145Z"
    }
   },
   "id": "3a073972ba553aed"
  },
  {
   "cell_type": "code",
   "execution_count": 72,
   "outputs": [
    {
     "data": {
      "text/plain": "ChatGroup(id=UUID('89e5f88c-637c-4b47-bebc-9c3982042276'), name='temporary 2', time_created=datetime.datetime(2023, 9, 1, 15, 52, 26, 526619))"
     },
     "execution_count": 72,
     "metadata": {},
     "output_type": "execute_result"
    }
   ],
   "source": [
    "new_group = ChatGroup.create(name=\"temporary 2\")\n",
    "new_group"
   ],
   "metadata": {
    "collapsed": false,
    "ExecuteTime": {
     "end_time": "2023-09-01T15:52:26.546902200Z",
     "start_time": "2023-09-01T15:52:26.529252577Z"
    }
   },
   "id": "d2071245344f850e"
  },
  {
   "cell_type": "code",
   "execution_count": 54,
   "outputs": [],
   "source": [
    "new_participant_1 = ChatParticipant.create(message_notify=False, id_account=1,\n",
    "                                           id_chatgroup='015edba8-22ea-4d4d-85d0-530c5400f9b8')"
   ],
   "metadata": {
    "collapsed": false,
    "ExecuteTime": {
     "end_time": "2023-09-01T15:39:23.295570525Z",
     "start_time": "2023-09-01T15:39:23.281241584Z"
    }
   },
   "id": "423ff5b273288dfa"
  },
  {
   "cell_type": "code",
   "execution_count": 55,
   "outputs": [],
   "source": [
    "new_participant_2 = ChatParticipant.create(message_notify=False, id_account=2,\n",
    "                                           id_chatgroup='015edba8-22ea-4d4d-85d0-530c5400f9b8')"
   ],
   "metadata": {
    "collapsed": false,
    "ExecuteTime": {
     "end_time": "2023-09-01T15:39:24.473216070Z",
     "start_time": "2023-09-01T15:39:24.470560776Z"
    }
   },
   "id": "b883effacacb29aa"
  },
  {
   "cell_type": "code",
   "execution_count": 56,
   "outputs": [],
   "source": [
    "new_participant_3 = ChatParticipant.create(message_notify=False, id_account=2,\n",
    "                                           id_chatgroup='015edba8-22ea-4d4d-85d0-530c5400f9b8')"
   ],
   "metadata": {
    "collapsed": false,
    "ExecuteTime": {
     "end_time": "2023-09-01T15:39:25.574047458Z",
     "start_time": "2023-09-01T15:39:25.565236398Z"
    }
   },
   "id": "e3f05d47829fb7eb"
  },
  {
   "cell_type": "code",
   "execution_count": 57,
   "outputs": [],
   "source": [
    "list_group_participant = ChatParticipant.objects.filter(id_account=2)"
   ],
   "metadata": {
    "collapsed": false,
    "ExecuteTime": {
     "end_time": "2023-09-01T15:39:26.441140053Z",
     "start_time": "2023-09-01T15:39:26.432831932Z"
    }
   },
   "id": "7acaa8996c6b241e"
  },
  {
   "cell_type": "code",
   "execution_count": 58,
   "outputs": [
    {
     "name": "stdout",
     "output_type": "stream",
     "text": [
      "ChatParticipant <id_account=2, id_chatgroup=015edba8-22ea-4d4d-85d0-530c5400f9b8>\n"
     ]
    }
   ],
   "source": [
    "for i in list_group_participant.all():\n",
    "    print(i)"
   ],
   "metadata": {
    "collapsed": false,
    "ExecuteTime": {
     "end_time": "2023-09-01T15:39:26.942310845Z",
     "start_time": "2023-09-01T15:39:26.937152043Z"
    }
   },
   "id": "c23aff900733c77c"
  },
  {
   "cell_type": "code",
   "execution_count": 40,
   "outputs": [],
   "source": [
    "import time, asyncio\n",
    "\n",
    "\n",
    "def waitfunc(t: int, name):\n",
    "    time.sleep(t)\n",
    "    print(name)\n",
    "\n",
    "\n",
    "async def asyncwaitfunc(t: int, name):\n",
    "    await asyncio.sleep(t)\n",
    "    print(name)\n",
    "\n",
    "\n",
    "async def testconcurrent():\n",
    "    await asyncwaitfunc(1, \"hello\")\n",
    "    await asyncwaitfunc(2, \"world\")\n",
    "    waitfunc(0.5, \"test\")\n",
    "\n",
    "\n",
    "async def testconcurrent2():\n",
    "    task1 = asyncio.create_task(asyncwaitfunc(1, \"hello\"))\n",
    "    task2 = asyncio.create_task(asyncwaitfunc(2, \"world\"))\n",
    "    await task1\n",
    "    await task2\n",
    "    waitfunc(0.5, \"test\")\n"
   ],
   "metadata": {
    "collapsed": false,
    "ExecuteTime": {
     "end_time": "2023-09-10T07:13:59.532344782Z",
     "start_time": "2023-09-10T07:13:59.482091545Z"
    }
   },
   "id": "4af8fda7da708a0a"
  },
  {
   "cell_type": "code",
   "execution_count": 41,
   "outputs": [
    {
     "name": "stdout",
     "output_type": "stream",
     "text": [
      "hello\n",
      "world\n",
      "test\n"
     ]
    }
   ],
   "source": [
    "await testconcurrent()"
   ],
   "metadata": {
    "collapsed": false,
    "ExecuteTime": {
     "end_time": "2023-09-10T07:14:04.484852111Z",
     "start_time": "2023-09-10T07:14:00.967866593Z"
    }
   },
   "id": "ad90be9c6dbe3144"
  },
  {
   "cell_type": "code",
   "execution_count": 42,
   "outputs": [
    {
     "name": "stdout",
     "output_type": "stream",
     "text": [
      "hello\n",
      "world\n",
      "test\n"
     ]
    }
   ],
   "source": [
    "await testconcurrent2()"
   ],
   "metadata": {
    "collapsed": false,
    "ExecuteTime": {
     "end_time": "2023-09-10T07:14:09.453959763Z",
     "start_time": "2023-09-10T07:14:06.939777569Z"
    }
   },
   "id": "be12a67f61ba532a"
  },
  {
   "cell_type": "code",
   "execution_count": null,
   "outputs": [],
   "source": [],
   "metadata": {
    "collapsed": false
   },
   "id": "6ad7decce5b74dba"
  }
 ],
 "metadata": {
  "kernelspec": {
   "display_name": "Python 3",
   "language": "python",
   "name": "python3"
  },
  "language_info": {
   "codemirror_mode": {
    "name": "ipython",
    "version": 2
   },
   "file_extension": ".py",
   "mimetype": "text/x-python",
   "name": "python",
   "nbconvert_exporter": "python",
   "pygments_lexer": "ipython2",
   "version": "2.7.6"
  }
 },
 "nbformat": 4,
 "nbformat_minor": 5
}
